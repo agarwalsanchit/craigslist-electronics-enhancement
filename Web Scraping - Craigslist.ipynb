{
 "cells": [
  {
   "cell_type": "markdown",
   "id": "17ed05e0",
   "metadata": {},
   "source": [
    "# `Fall 2022 MGMT 59000-005`\n",
    "## **Final Group Project - AUD Ones Out**\n",
    "<br>\n",
    "<div style=\"text-align: justify\"> Craigslist offers users access to buy and sell online through free classified ads. When you access the website, it's important to protect your personal email from unscrupulous users who may spam you by offering fraudulent payments for your item. </div> \n",
    "\n",
    "### Purpose of this Notebook:\n",
    "* Collect URLs to be accessed for Craigslist\n",
    "* Extract high level attributes like Title, Description, Product Link\n",
    "\n",
    "<br>\n",
    "\n",
    "### Version History:\n",
    "| Author | Description | Execution Duration (mins) |\n",
    "| --- | --- | --- |\n",
    "| Sanchit Agarwal | Extract Title and URL for landing page | 1 |\n",
    "| Deepa Narayanan | Loop through all web URLs to access Electronics for Chicago and extract Description | 15 |"
   ]
  },
  {
   "cell_type": "markdown",
   "id": "2473700b",
   "metadata": {},
   "source": [
    "### Importing required libraries"
   ]
  },
  {
   "cell_type": "code",
   "execution_count": 9,
   "id": "a538bf47",
   "metadata": {},
   "outputs": [],
   "source": [
    "import requests\n",
    "import random\n",
    "r = requests.Session()\n",
    "from bs4 import BeautifulSoup as bs"
   ]
  },
  {
   "cell_type": "markdown",
   "id": "e2aa2b3e",
   "metadata": {},
   "source": [
    "### Extracting the URLs of all pages in Electronics section - Chicago"
   ]
  },
  {
   "cell_type": "code",
   "execution_count": 10,
   "id": "051be881",
   "metadata": {},
   "outputs": [],
   "source": [
    "url = 'https://chicago.craigslist.org/search/ela'\n",
    "urls = []\n",
    "urls.append(url)\n",
    "i = True\n",
    "while i == True:\n",
    "    html = r.get(url).text\n",
    "    soup = bs(html, 'html.parser')\n",
    "    try:\n",
    "        z = soup.find(\"a\",{\"class\":\"button next\"})\n",
    "        new_url = 'https://chicago.craigslist.org'+z['href']\n",
    "        url = new_url\n",
    "        urls.append(url)\n",
    "    except:\n",
    "        i = False\n",
    "urls.remove('https://chicago.craigslist.org')"
   ]
  },
  {
   "cell_type": "markdown",
   "id": "5655075c",
   "metadata": {},
   "source": [
    "### Web Scraping"
   ]
  },
  {
   "cell_type": "code",
   "execution_count": 11,
   "id": "5591831b",
   "metadata": {},
   "outputs": [],
   "source": [
    "def strip(txt):\n",
    "    ret = \"\"\n",
    "    for l in txt.split(\"\\n\"):\n",
    "        if l.strip() != '':\n",
    "            ret += l + \"\\n\"\n",
    "    return ret"
   ]
  },
  {
   "cell_type": "code",
   "execution_count": 12,
   "id": "e56ba9f2",
   "metadata": {},
   "outputs": [],
   "source": [
    "title = []\n",
    "links = []"
   ]
  },
  {
   "cell_type": "code",
   "execution_count": 17,
   "id": "6d53bb21",
   "metadata": {},
   "outputs": [
    {
     "name": "stdout",
     "output_type": "stream",
     "text": [
      "https://chicago.craigslist.org/search/ela\n",
      "https://chicago.craigslist.org/search/ela?s=120\n",
      "https://chicago.craigslist.org/search/ela?s=240\n",
      "https://chicago.craigslist.org/search/ela?s=360\n",
      "https://chicago.craigslist.org/search/ela?s=480\n",
      "https://chicago.craigslist.org/search/ela?s=600\n",
      "https://chicago.craigslist.org/search/ela?s=720\n",
      "https://chicago.craigslist.org/search/ela?s=840\n",
      "https://chicago.craigslist.org/search/ela?s=960\n",
      "https://chicago.craigslist.org/search/ela?s=1080\n",
      "https://chicago.craigslist.org/search/ela?s=1200\n",
      "https://chicago.craigslist.org/search/ela?s=1320\n",
      "https://chicago.craigslist.org/search/ela?s=1440\n",
      "https://chicago.craigslist.org/search/ela?s=1560\n",
      "https://chicago.craigslist.org/search/ela?s=1680\n",
      "https://chicago.craigslist.org/search/ela?s=1800\n",
      "https://chicago.craigslist.org/search/ela?s=1920\n",
      "https://chicago.craigslist.org/search/ela?s=2040\n",
      "https://chicago.craigslist.org/search/ela?s=2160\n",
      "https://chicago.craigslist.org/search/ela?s=2280\n",
      "https://chicago.craigslist.org/search/ela?s=2400\n",
      "https://chicago.craigslist.org/search/ela?s=2520\n",
      "https://chicago.craigslist.org/search/ela?s=2640\n",
      "https://chicago.craigslist.org/search/ela?s=2760\n",
      "https://chicago.craigslist.org/search/ela?s=2880\n"
     ]
    }
   ],
   "source": [
    "for url in urls:\n",
    "    print(url)\n",
    "    html = r.get(url).text\n",
    "    soup = bs(html, 'html.parser')\n",
    "    for a in soup.find_all(\"a\", class_=\"result-title hdrlnk\"):\n",
    "        title.append(a.string)\n",
    "        links.append(a.get('href'))"
   ]
  },
  {
   "cell_type": "code",
   "execution_count": 19,
   "id": "68012796",
   "metadata": {},
   "outputs": [],
   "source": [
    "bodysum = []\n",
    "for a in links:\n",
    "    html = r.get(a).text\n",
    "    soup = bs(html, 'html.parser')\n",
    "    desc = strip(soup.get_text())\n",
    "    if (desc.find(\"QR Code Link to This Post\") == -1):\n",
    "        bodysum.append(\"NULL\")\n",
    "    else:\n",
    "        bodysum.append(\n",
    "            desc[desc.find(\"OpenStreetMap\") + 13:desc.find(\"do NOT contact me with unsolicited services or offers\")])"
   ]
  },
  {
   "cell_type": "markdown",
   "id": "3fea9db3",
   "metadata": {},
   "source": [
    "### Writing Output to csv"
   ]
  },
  {
   "cell_type": "code",
   "execution_count": 21,
   "id": "b5fe28b9",
   "metadata": {},
   "outputs": [],
   "source": [
    "combined_list = []\n",
    "for i in range(0,len(title)):\n",
    "    combined_sub_list = []\n",
    "    combined_sub_list.append(title[i])\n",
    "    combined_sub_list.append(links[i])\n",
    "    combined_sub_list.append(bodysum[i])\n",
    "    combined_list.append(combined_sub_list)\n",
    "\n",
    "import csv\n",
    "fields = ['Title', 'Links', 'Description'] \n",
    "with open('ChicagoListing.csv', 'w',newline='', encoding=\"utf-8\") as f:\n",
    "    write = csv.writer(f)\n",
    "    write.writerow(fields)\n",
    "    write.writerows(combined_list)"
   ]
  }
 ],
 "metadata": {
  "kernelspec": {
   "display_name": "Python 3 (ipykernel)",
   "language": "python",
   "name": "python3"
  },
  "language_info": {
   "codemirror_mode": {
    "name": "ipython",
    "version": 3
   },
   "file_extension": ".py",
   "mimetype": "text/x-python",
   "name": "python",
   "nbconvert_exporter": "python",
   "pygments_lexer": "ipython3",
   "version": "3.9.7"
  }
 },
 "nbformat": 4,
 "nbformat_minor": 5
}
