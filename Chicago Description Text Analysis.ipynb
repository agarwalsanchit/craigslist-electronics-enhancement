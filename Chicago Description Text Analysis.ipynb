{
 "cells": [
  {
   "cell_type": "markdown",
   "metadata": {},
   "source": [
    "# `Fall 2022 MGMT 59000-005`\n",
    "## **Final Group Project - AUD Ones Out**\n",
    "<br>\n",
    "<div style=\"text-align: justify\"> Craigslist offers users access to buy and sell online through free classified ads. When you access the website, it's important to protect your personal email from unscrupulous users who may spam you by offering fraudulent payments for your item. </div> \n",
    "\n",
    "### Purpose of this Notebook:\n",
    "* Collect URLs to be accessed for Craigslist\n",
    "* Extract high level attributes like Title, Description, Product Link\n",
    "\n",
    "<br>\n",
    "\n",
    "### Version History:\n",
    "| Author | Description | Execution Duration (mins) |\n",
    "| --- | --- | --- |\n",
    "| Sanchit Agarwal | Text Analytics and Spam Detection| 15 |\n"
   ]
  },
  {
   "cell_type": "code",
   "execution_count": 69,
   "metadata": {},
   "outputs": [],
   "source": [
    "import pandas as pd\n",
    "from nltk.corpus import stopwords\n",
    "from nltk.stem import WordNetLemmatizer\n",
    "import nltk\n",
    "import numpy as np\n",
    "from sklearn.model_selection import train_test_split\n",
    "from sklearn.feature_extraction.text import TfidfVectorizer\n",
    "from sklearn.metrics import classification_report\n",
    "import matplotlib.pyplot as plt\n",
    "import seaborn as sns\n",
    "%matplotlib inline\n",
    "from imblearn.over_sampling import SMOTE\n",
    "from time import time\n",
    "from collections import Counter"
   ]
  },
  {
   "cell_type": "code",
   "execution_count": 56,
   "metadata": {},
   "outputs": [
    {
     "data": {
      "text/html": [
       "<div>\n",
       "<style scoped>\n",
       "    .dataframe tbody tr th:only-of-type {\n",
       "        vertical-align: middle;\n",
       "    }\n",
       "\n",
       "    .dataframe tbody tr th {\n",
       "        vertical-align: top;\n",
       "    }\n",
       "\n",
       "    .dataframe thead th {\n",
       "        text-align: right;\n",
       "    }\n",
       "</style>\n",
       "<table border=\"1\" class=\"dataframe\">\n",
       "  <thead>\n",
       "    <tr style=\"text-align: right;\">\n",
       "      <th></th>\n",
       "      <th>title</th>\n",
       "      <th>link</th>\n",
       "      <th>description</th>\n",
       "      <th>label</th>\n",
       "    </tr>\n",
       "  </thead>\n",
       "  <tbody>\n",
       "    <tr>\n",
       "      <th>0</th>\n",
       "      <td>ASUS Onhub By Google Wifi Router</td>\n",
       "      <td>https://chicago.craigslist.org/wcl/ele/d/darie...</td>\n",
       "      <td>y Google Wifi Router - electronics - west chic...</td>\n",
       "      <td>Non-Spam</td>\n",
       "    </tr>\n",
       "    <tr>\n",
       "      <th>1</th>\n",
       "      <td>Mitsubishi 46\" LCD TV Diamond Vision</td>\n",
       "      <td>https://chicago.craigslist.org/nwc/ele/d/naper...</td>\n",
       "      <td>6\" LCD TV Diamond Vision - electronics - north...</td>\n",
       "      <td>Spam</td>\n",
       "    </tr>\n",
       "    <tr>\n",
       "      <th>2</th>\n",
       "      <td>Electronics having issues and for repairs/parts</td>\n",
       "      <td>https://chicago.craigslist.org/nwc/ele/d/addis...</td>\n",
       "      <td>having issues and for repairs/parts - electron...</td>\n",
       "      <td>Non-Spam</td>\n",
       "    </tr>\n",
       "    <tr>\n",
       "      <th>3</th>\n",
       "      <td>Brand New Selfie Ring light/Cell phone mount w...</td>\n",
       "      <td>https://chicago.craigslist.org/nwc/ele/d/addis...</td>\n",
       "      <td>lfie Ring light/Cell phone mount with Tripod S...</td>\n",
       "      <td>Spam</td>\n",
       "    </tr>\n",
       "    <tr>\n",
       "      <th>4</th>\n",
       "      <td>21 inch Non Smart TV</td>\n",
       "      <td>https://chicago.craigslist.org/chc/ele/d/chica...</td>\n",
       "      <td>Smart TV - electronics - city of chicago for s...</td>\n",
       "      <td>Non-Spam</td>\n",
       "    </tr>\n",
       "    <tr>\n",
       "      <th>...</th>\n",
       "      <td>...</td>\n",
       "      <td>...</td>\n",
       "      <td>...</td>\n",
       "      <td>...</td>\n",
       "    </tr>\n",
       "    <tr>\n",
       "      <th>2995</th>\n",
       "      <td>Vizio 26‚Äù 1080p HDTV with Remote, Like New.</td>\n",
       "      <td>https://chicago.craigslist.org/nwc/ele/d/fox-l...</td>\n",
       "      <td>ys Zoom and conference all terminator - electr...</td>\n",
       "      <td>Non-Spam</td>\n",
       "    </tr>\n",
       "    <tr>\n",
       "      <th>2996</th>\n",
       "      <td>Garmin Nuvi 205w GPS in Box with Paperwork &amp; A...</td>\n",
       "      <td>https://chicago.craigslist.org/nch/ele/d/fox-l...</td>\n",
       "      <td>Cordless Answering System - electronics - nor...</td>\n",
       "      <td>Non-Spam</td>\n",
       "    </tr>\n",
       "    <tr>\n",
       "      <th>2997</th>\n",
       "      <td>Desktop Calculator by Sharp</td>\n",
       "      <td>https://chicago.craigslist.org/nwc/ele/d/huntl...</td>\n",
       "      <td>s smart tv - electronics - city of chicago for...</td>\n",
       "      <td>Non-Spam</td>\n",
       "    </tr>\n",
       "    <tr>\n",
       "      <th>2998</th>\n",
       "      <td>Henry Tempo One ham radio power supply</td>\n",
       "      <td>https://chicago.craigslist.org/nwi/ele/d/valpa...</td>\n",
       "      <td>Mesh Range Extender EX7000 - electronics - -....</td>\n",
       "      <td>Non-Spam</td>\n",
       "    </tr>\n",
       "    <tr>\n",
       "      <th>2999</th>\n",
       "      <td>GPX stereo turntable /radio</td>\n",
       "      <td>https://chicago.craigslist.org/nwi/ele/d/valpa...</td>\n",
       "      <td>inity SM120 - electronics - northwest indiana ...</td>\n",
       "      <td>Non-Spam</td>\n",
       "    </tr>\n",
       "  </tbody>\n",
       "</table>\n",
       "<p>2961 rows × 4 columns</p>\n",
       "</div>"
      ],
      "text/plain": [
       "                                                  title  \\\n",
       "0                      ASUS Onhub By Google Wifi Router   \n",
       "1                  Mitsubishi 46\" LCD TV Diamond Vision   \n",
       "2       Electronics having issues and for repairs/parts   \n",
       "3     Brand New Selfie Ring light/Cell phone mount w...   \n",
       "4                                  21 inch Non Smart TV   \n",
       "...                                                 ...   \n",
       "2995      Vizio 26‚Äù 1080p HDTV with Remote, Like New.   \n",
       "2996  Garmin Nuvi 205w GPS in Box with Paperwork & A...   \n",
       "2997                        Desktop Calculator by Sharp   \n",
       "2998             Henry Tempo One ham radio power supply   \n",
       "2999                        GPX stereo turntable /radio   \n",
       "\n",
       "                                                   link  \\\n",
       "0     https://chicago.craigslist.org/wcl/ele/d/darie...   \n",
       "1     https://chicago.craigslist.org/nwc/ele/d/naper...   \n",
       "2     https://chicago.craigslist.org/nwc/ele/d/addis...   \n",
       "3     https://chicago.craigslist.org/nwc/ele/d/addis...   \n",
       "4     https://chicago.craigslist.org/chc/ele/d/chica...   \n",
       "...                                                 ...   \n",
       "2995  https://chicago.craigslist.org/nwc/ele/d/fox-l...   \n",
       "2996  https://chicago.craigslist.org/nch/ele/d/fox-l...   \n",
       "2997  https://chicago.craigslist.org/nwc/ele/d/huntl...   \n",
       "2998  https://chicago.craigslist.org/nwi/ele/d/valpa...   \n",
       "2999  https://chicago.craigslist.org/nwi/ele/d/valpa...   \n",
       "\n",
       "                                            description     label  \n",
       "0     y Google Wifi Router - electronics - west chic...  Non-Spam  \n",
       "1     6\" LCD TV Diamond Vision - electronics - north...      Spam  \n",
       "2     having issues and for repairs/parts - electron...  Non-Spam  \n",
       "3     lfie Ring light/Cell phone mount with Tripod S...      Spam  \n",
       "4     Smart TV - electronics - city of chicago for s...  Non-Spam  \n",
       "...                                                 ...       ...  \n",
       "2995  ys Zoom and conference all terminator - electr...  Non-Spam  \n",
       "2996   Cordless Answering System - electronics - nor...  Non-Spam  \n",
       "2997  s smart tv - electronics - city of chicago for...  Non-Spam  \n",
       "2998   Mesh Range Extender EX7000 - electronics - -....  Non-Spam  \n",
       "2999  inity SM120 - electronics - northwest indiana ...  Non-Spam  \n",
       "\n",
       "[2961 rows x 4 columns]"
      ]
     },
     "execution_count": 56,
     "metadata": {},
     "output_type": "execute_result"
    }
   ],
   "source": [
    "data = pd.read_excel(\"/Users/sanchitagarwal/Desktop/chicagotrain.xlsx\")\n",
    "data.dropna(inplace=True)\n",
    "data"
   ]
  },
  {
   "cell_type": "code",
   "execution_count": 59,
   "metadata": {},
   "outputs": [
    {
     "data": {
      "text/html": [
       "<div>\n",
       "<style scoped>\n",
       "    .dataframe tbody tr th:only-of-type {\n",
       "        vertical-align: middle;\n",
       "    }\n",
       "\n",
       "    .dataframe tbody tr th {\n",
       "        vertical-align: top;\n",
       "    }\n",
       "\n",
       "    .dataframe thead th {\n",
       "        text-align: right;\n",
       "    }\n",
       "</style>\n",
       "<table border=\"1\" class=\"dataframe\">\n",
       "  <thead>\n",
       "    <tr style=\"text-align: right;\">\n",
       "      <th></th>\n",
       "      <th>title</th>\n",
       "      <th>description</th>\n",
       "      <th>label</th>\n",
       "      <th>text</th>\n",
       "    </tr>\n",
       "  </thead>\n",
       "  <tbody>\n",
       "    <tr>\n",
       "      <th>0</th>\n",
       "      <td>ASUS Onhub By Google Wifi Router</td>\n",
       "      <td>y Google Wifi Router - electronics - west chic...</td>\n",
       "      <td>Non-Spam</td>\n",
       "      <td>ASUS Onhub By Google Wifi Router y Google Wifi...</td>\n",
       "    </tr>\n",
       "    <tr>\n",
       "      <th>1</th>\n",
       "      <td>Mitsubishi 46\" LCD TV Diamond Vision</td>\n",
       "      <td>6\" LCD TV Diamond Vision - electronics - north...</td>\n",
       "      <td>Spam</td>\n",
       "      <td>Mitsubishi 46\" LCD TV Diamond Vision 6\" LCD TV...</td>\n",
       "    </tr>\n",
       "    <tr>\n",
       "      <th>2</th>\n",
       "      <td>Electronics having issues and for repairs/parts</td>\n",
       "      <td>having issues and for repairs/parts - electron...</td>\n",
       "      <td>Non-Spam</td>\n",
       "      <td>Electronics having issues and for repairs/part...</td>\n",
       "    </tr>\n",
       "    <tr>\n",
       "      <th>3</th>\n",
       "      <td>Brand New Selfie Ring light/Cell phone mount w...</td>\n",
       "      <td>lfie Ring light/Cell phone mount with Tripod S...</td>\n",
       "      <td>Spam</td>\n",
       "      <td>Brand New Selfie Ring light/Cell phone mount w...</td>\n",
       "    </tr>\n",
       "    <tr>\n",
       "      <th>4</th>\n",
       "      <td>21 inch Non Smart TV</td>\n",
       "      <td>Smart TV - electronics - city of chicago for s...</td>\n",
       "      <td>Non-Spam</td>\n",
       "      <td>21 inch Non Smart TV Smart TV - electronics - ...</td>\n",
       "    </tr>\n",
       "  </tbody>\n",
       "</table>\n",
       "</div>"
      ],
      "text/plain": [
       "                                               title  \\\n",
       "0                   ASUS Onhub By Google Wifi Router   \n",
       "1               Mitsubishi 46\" LCD TV Diamond Vision   \n",
       "2    Electronics having issues and for repairs/parts   \n",
       "3  Brand New Selfie Ring light/Cell phone mount w...   \n",
       "4                               21 inch Non Smart TV   \n",
       "\n",
       "                                         description     label  \\\n",
       "0  y Google Wifi Router - electronics - west chic...  Non-Spam   \n",
       "1  6\" LCD TV Diamond Vision - electronics - north...      Spam   \n",
       "2  having issues and for repairs/parts - electron...  Non-Spam   \n",
       "3  lfie Ring light/Cell phone mount with Tripod S...      Spam   \n",
       "4  Smart TV - electronics - city of chicago for s...  Non-Spam   \n",
       "\n",
       "                                                text  \n",
       "0  ASUS Onhub By Google Wifi Router y Google Wifi...  \n",
       "1  Mitsubishi 46\" LCD TV Diamond Vision 6\" LCD TV...  \n",
       "2  Electronics having issues and for repairs/part...  \n",
       "3  Brand New Selfie Ring light/Cell phone mount w...  \n",
       "4  21 inch Non Smart TV Smart TV - electronics - ...  "
      ]
     },
     "execution_count": 59,
     "metadata": {},
     "output_type": "execute_result"
    }
   ],
   "source": [
    "data = data.drop('link', axis=1)\n",
    "data.title = data.title.astype(str)\n",
    "data.description = data.description.astype(str)\n",
    "data.label = data.label.astype(str)\n",
    "data[\"text\"] = data[\"title\"] + \" \" + data[\"description\"]\n",
    "data.head()"
   ]
  },
  {
   "cell_type": "code",
   "execution_count": 63,
   "metadata": {},
   "outputs": [
    {
     "data": {
      "image/png": "[encoded data removed]",
      "text/plain": [
       "<Figure size 640x480 with 1 Axes>"
      ]
     },
     "metadata": {},
     "output_type": "display_data"
    }
   ],
   "source": [
    "def piechart(j):\n",
    "    cnt = 0\n",
    "    for i in j:\n",
    "        if i == 'Spam':\n",
    "            cnt += 1\n",
    "        else:\n",
    "            pass\n",
    "    cnt2 = len(j) - cnt\n",
    "    fig_data = [cnt, cnt2]\n",
    "    fig_label = [\"Spam\", \"Not Spam\"]\n",
    "    fig_explode = [0.1, 0]\n",
    "    fig_color = ['#8B1A1A','#79CDCD']\n",
    "    fig1, ax1 = plt.subplots()\n",
    "    ax1.pie(fig_data, labels=fig_label, colors=fig_color,  explode=fig_explode, autopct='%1.1f%%', startangle=110)\n",
    "    plt.tight_layout()\n",
    "    plt.show()\n",
    "lbl = data.label.tolist()\n",
    "piechart(lbl) \n",
    "\n",
    "## We can see here the data is highly imbalanced"
   ]
  },
  {
   "cell_type": "code",
   "execution_count": 68,
   "metadata": {},
   "outputs": [
    {
     "data": {
      "text/html": [
       "<div>\n",
       "<style scoped>\n",
       "    .dataframe tbody tr th:only-of-type {\n",
       "        vertical-align: middle;\n",
       "    }\n",
       "\n",
       "    .dataframe tbody tr th {\n",
       "        vertical-align: top;\n",
       "    }\n",
       "\n",
       "    .dataframe thead th {\n",
       "        text-align: right;\n",
       "    }\n",
       "</style>\n",
       "<table border=\"1\" class=\"dataframe\">\n",
       "  <thead>\n",
       "    <tr style=\"text-align: right;\">\n",
       "      <th></th>\n",
       "      <th>label</th>\n",
       "      <th>text</th>\n",
       "    </tr>\n",
       "  </thead>\n",
       "  <tbody>\n",
       "    <tr>\n",
       "      <th>0</th>\n",
       "      <td>Non-Spam</td>\n",
       "      <td>asus onhub google wifi router google wifi rout...</td>\n",
       "    </tr>\n",
       "    <tr>\n",
       "      <th>1</th>\n",
       "      <td>Spam</td>\n",
       "      <td>mitsubishi lcd tv diamond vision lcd tv diamon...</td>\n",
       "    </tr>\n",
       "    <tr>\n",
       "      <th>2</th>\n",
       "      <td>Non-Spam</td>\n",
       "      <td>electronics issue issue electronics chicago no...</td>\n",
       "    </tr>\n",
       "    <tr>\n",
       "      <th>3</th>\n",
       "      <td>Spam</td>\n",
       "      <td>brand new selfie ring phone mount tripod stand...</td>\n",
       "    </tr>\n",
       "    <tr>\n",
       "      <th>4</th>\n",
       "      <td>Non-Spam</td>\n",
       "      <td>inch non smart tv smart tv electronics city ch...</td>\n",
       "    </tr>\n",
       "    <tr>\n",
       "      <th>...</th>\n",
       "      <td>...</td>\n",
       "      <td>...</td>\n",
       "    </tr>\n",
       "    <tr>\n",
       "      <th>2956</th>\n",
       "      <td>Non-Spam</td>\n",
       "      <td>vizio hdtv remote like new zoom conference ter...</td>\n",
       "    </tr>\n",
       "    <tr>\n",
       "      <th>2957</th>\n",
       "      <td>Non-Spam</td>\n",
       "      <td>garmin nuvi gps box paperwork accessory cordle...</td>\n",
       "    </tr>\n",
       "    <tr>\n",
       "      <th>2958</th>\n",
       "      <td>Non-Spam</td>\n",
       "      <td>desktop calculator sharp smart tv electronics ...</td>\n",
       "    </tr>\n",
       "    <tr>\n",
       "      <th>2959</th>\n",
       "      <td>Non-Spam</td>\n",
       "      <td>henry tempo one ham radio power supply mesh ra...</td>\n",
       "    </tr>\n",
       "    <tr>\n",
       "      <th>2960</th>\n",
       "      <td>Non-Spam</td>\n",
       "      <td>gpx stereo turntable inity electronics northwe...</td>\n",
       "    </tr>\n",
       "  </tbody>\n",
       "</table>\n",
       "<p>2961 rows × 2 columns</p>\n",
       "</div>"
      ],
      "text/plain": [
       "         label                                               text\n",
       "0     Non-Spam  asus onhub google wifi router google wifi rout...\n",
       "1         Spam  mitsubishi lcd tv diamond vision lcd tv diamon...\n",
       "2     Non-Spam  electronics issue issue electronics chicago no...\n",
       "3         Spam  brand new selfie ring phone mount tripod stand...\n",
       "4     Non-Spam  inch non smart tv smart tv electronics city ch...\n",
       "...        ...                                                ...\n",
       "2956  Non-Spam  vizio hdtv remote like new zoom conference ter...\n",
       "2957  Non-Spam  garmin nuvi gps box paperwork accessory cordle...\n",
       "2958  Non-Spam  desktop calculator sharp smart tv electronics ...\n",
       "2959  Non-Spam  henry tempo one ham radio power supply mesh ra...\n",
       "2960  Non-Spam  gpx stereo turntable inity electronics northwe...\n",
       "\n",
       "[2961 rows x 2 columns]"
      ]
     },
     "execution_count": 68,
     "metadata": {},
     "output_type": "execute_result"
    }
   ],
   "source": [
    "## Text Pre-processing steps\n",
    "\n",
    "lemmatizer = WordNetLemmatizer()\n",
    "def prep(row):\n",
    "    document = row[\"text\"]\n",
    "    document = document.lower()\n",
    "    words = nltk.word_tokenize(document)\n",
    "    words = [lemmatizer.lemmatize(word) for word in words if word.isalpha()]\n",
    "    words = [word for word in words if word not in stopwords.words(\"english\")]\n",
    "    sentence = \" \".join(words)\n",
    "    return sentence\n",
    "\n",
    "\n",
    "\n",
    "textList = [text for text in input_data.text]\n",
    "proc_texts = [preprocess(text) for text in textList]\n",
    "df_txts = pd.DataFrame({'label': label, 'text': proc_texts})\n",
    "label = input_data.label.tolist()\n",
    "df_txts"
   ]
  },
  {
   "cell_type": "code",
   "execution_count": 72,
   "metadata": {},
   "outputs": [
    {
     "data": {
      "text/plain": [
       "0.0    2609\n",
       "1.0     351\n",
       "Name: label, dtype: int64"
      ]
     },
     "execution_count": 72,
     "metadata": {},
     "output_type": "execute_result"
    }
   ],
   "source": [
    "df_txts['label'] = df_txts['label'].map({'Spam': 1, 'Non-Spam': 0})\n",
    "df_txts['label'].value_counts()"
   ]
  },
  {
   "cell_type": "code",
   "execution_count": 75,
   "metadata": {},
   "outputs": [
    {
     "data": {
      "text/plain": [
       "(2960, 2)"
      ]
     },
     "execution_count": 75,
     "metadata": {},
     "output_type": "execute_result"
    }
   ],
   "source": [
    "df_txts = df_txts[df_txts[\"label\"]!=\"v\"]\n",
    "df_txts = df_txts.dropna()\n",
    "df_txts.shape"
   ]
  },
  {
   "cell_type": "code",
   "execution_count": 94,
   "metadata": {},
   "outputs": [
    {
     "name": "stderr",
     "output_type": "stream",
     "text": [
      "/Users/sanchitagarwal/opt/anaconda3/lib/python3.9/site-packages/sklearn/feature_extraction/text.py:396: UserWarning: Your stop_words may be inconsistent with your preprocessing. Tokenizing the stop words generated tokens ['b', 'c', 'd', 'e', 'f', 'g', 'h', 'k', 'l', 'm', 'n', 'o', 'p', 'r', 's', 't', 'u', 'v', 'w', 'x', 'y'] not in stop_words.\n",
      "  warnings.warn(\n"
     ]
    }
   ],
   "source": [
    "###### splitting train test data ######\n",
    "train_x, test_x, train_y, test_y = train_test_split(df_texts.text, df_texts.label, test_size=0.2, random_state=0,stratify=df_texts.label.values)\n",
    "\n",
    "# TF- IDF Vectorisation transformation into training and test sets\n",
    "\n",
    "def tk(doc):\n",
    "    return doc\n",
    "vec = TfidfVectorizer(analyzer='word', tokenizer=tk, preprocessor=tk, token_pattern=None,\n",
    "                      min_df=2, ngram_range=(1,2), stop_words='english')\n",
    "vec.fit(train_x)\n",
    "train_x = vec.transform(train_x)\n",
    "test_x = vec.transform(test_x)\n",
    "\n",
    "#smt = SMOTE(sampling_strategy=0.25)\n",
    "#train_x,train_y = smt.fit_resample(train_x,train_y)"
   ]
  },
  {
   "cell_type": "code",
   "execution_count": null,
   "metadata": {},
   "outputs": [],
   "source": [
    "## Training Begins "
   ]
  },
  {
   "cell_type": "code",
   "execution_count": 95,
   "metadata": {},
   "outputs": [
    {
     "name": "stdout",
     "output_type": "stream",
     "text": [
      "Naive Bayes-\n",
      "              precision    recall  f1-score   support\n",
      "\n",
      "         0.0       0.91      0.89      0.90       522\n",
      "         1.0       0.31      0.37      0.34        70\n",
      "\n",
      "    accuracy                           0.83       592\n",
      "   macro avg       0.61      0.63      0.62       592\n",
      "weighted avg       0.84      0.83      0.83       592\n",
      "\n"
     ]
    }
   ],
   "source": [
    "# Naive Bayes\n",
    "\n",
    "model = []\n",
    "from sklearn.naive_bayes import BernoulliNB\n",
    "NBmodel = BernoulliNB()\n",
    "NBmodel.fit(train_x, train_y)\n",
    "y_pred_NB = NBmodel.predict(test_x)\n",
    "model.append(\"Naive Bayes\")\n",
    "print(\"Naive Bayes-\")\n",
    "print(classification_report(test_y, y_pred_NB))"
   ]
  },
  {
   "cell_type": "code",
   "execution_count": 96,
   "metadata": {},
   "outputs": [
    {
     "name": "stdout",
     "output_type": "stream",
     "text": [
      "Random Forest-\n",
      "              precision    recall  f1-score   support\n",
      "\n",
      "         0.0       0.98      0.84      0.91       522\n",
      "         1.0       0.43      0.87      0.57        70\n",
      "\n",
      "    accuracy                           0.85       592\n",
      "   macro avg       0.70      0.86      0.74       592\n",
      "weighted avg       0.91      0.85      0.87       592\n",
      "\n"
     ]
    }
   ],
   "source": [
    "#Random Forest\n",
    "\n",
    "from sklearn.ensemble import RandomForestClassifier\n",
    "RFmodel = RandomForestClassifier(n_estimators=40, max_depth=4, bootstrap=True, random_state=0,class_weight={0:1,1:8})  \n",
    "RFmodel.fit(train_x, train_y)\n",
    "y_pred_RF = RFmodel.predict(test_x)\n",
    "print(\"Random Forest-\")\n",
    "print(classification_report(test_y, y_pred_RF))\n"
   ]
  },
  {
   "cell_type": "code",
   "execution_count": 98,
   "metadata": {},
   "outputs": [
    {
     "name": "stdout",
     "output_type": "stream",
     "text": [
      "SVM-\n",
      "              precision    recall  f1-score   support\n",
      "\n",
      "         0.0       0.89      1.00      0.94       522\n",
      "         1.0       1.00      0.07      0.13        70\n",
      "\n",
      "    accuracy                           0.89       592\n",
      "   macro avg       0.94      0.54      0.54       592\n",
      "weighted avg       0.90      0.89      0.85       592\n",
      "\n"
     ]
    },
    {
     "name": "stderr",
     "output_type": "stream",
     "text": [
      "/Users/sanchitagarwal/opt/anaconda3/lib/python3.9/site-packages/sklearn/svm/_base.py:1206: ConvergenceWarning: Liblinear failed to converge, increase the number of iterations.\n",
      "  warnings.warn(\n"
     ]
    }
   ],
   "source": [
    "#Linear SVM\n",
    "\n",
    "from sklearn.svm import LinearSVC\n",
    "SVMmodel = LinearSVC(random_state = 0, penalty = 'l1', dual = False)\n",
    "SVMmodel.fit(train_x, train_y)\n",
    "y_pred_SVM = SVMmodel.predict(test_x)\n",
    "model.append(\"SVM\")\n",
    "print(\"SVM-\")\n",
    "print(classification_report(test_y, y_pred_SVM))"
   ]
  },
  {
   "cell_type": "code",
   "execution_count": 99,
   "metadata": {},
   "outputs": [
    {
     "name": "stdout",
     "output_type": "stream",
     "text": [
      "SVMP:::\n",
      "              precision    recall  f1-score   support\n",
      "\n",
      "         0.0       0.00      0.00      0.00       522\n",
      "         1.0       0.12      1.00      0.21        70\n",
      "\n",
      "    accuracy                           0.12       592\n",
      "   macro avg       0.06      0.50      0.11       592\n",
      "weighted avg       0.01      0.12      0.03       592\n",
      "\n"
     ]
    },
    {
     "name": "stderr",
     "output_type": "stream",
     "text": [
      "/Users/sanchitagarwal/opt/anaconda3/lib/python3.9/site-packages/sklearn/metrics/_classification.py:1318: UndefinedMetricWarning: Precision and F-score are ill-defined and being set to 0.0 in labels with no predicted samples. Use `zero_division` parameter to control this behavior.\n",
      "  _warn_prf(average, modifier, msg_start, len(result))\n",
      "/Users/sanchitagarwal/opt/anaconda3/lib/python3.9/site-packages/sklearn/metrics/_classification.py:1318: UndefinedMetricWarning: Precision and F-score are ill-defined and being set to 0.0 in labels with no predicted samples. Use `zero_division` parameter to control this behavior.\n",
      "  _warn_prf(average, modifier, msg_start, len(result))\n",
      "/Users/sanchitagarwal/opt/anaconda3/lib/python3.9/site-packages/sklearn/metrics/_classification.py:1318: UndefinedMetricWarning: Precision and F-score are ill-defined and being set to 0.0 in labels with no predicted samples. Use `zero_division` parameter to control this behavior.\n",
      "  _warn_prf(average, modifier, msg_start, len(result))\n"
     ]
    }
   ],
   "source": [
    "#Polynomial SVM\n",
    "\n",
    "from sklearn.svm import SVC \n",
    "SVMPmodel = SVC(kernel = 'poly',degree=3, random_state = 0, class_weight = 'balanced', gamma=\"auto\")\n",
    "SVMPmodel.fit(train_x, train_y)\n",
    "y_pred_SVMP = SVMPmodel.predict(test_x)\n",
    "model.append(\"Polynomial SVM\")\n",
    "print(\"SVMP:::\")\n",
    "print(classification_report(test_y, y_pred_SVMP))"
   ]
  },
  {
   "cell_type": "code",
   "execution_count": 100,
   "metadata": {},
   "outputs": [],
   "source": [
    "# XG Boost model\n",
    "\n",
    "from xgboost import XGBClassifier\n",
    "clf = XGBClassifier(max_depth=5, n_estimators=100, scale_pos_weight=0.97, learning_rate=0.001)"
   ]
  },
  {
   "cell_type": "code",
   "execution_count": 102,
   "metadata": {},
   "outputs": [
    {
     "name": "stdout",
     "output_type": "stream",
     "text": [
      "XGB-\n",
      "              precision    recall  f1-score   support\n",
      "\n",
      "         0.0       0.91      0.99      0.95       522\n",
      "         1.0       0.73      0.23      0.35        70\n",
      "\n",
      "    accuracy                           0.90       592\n",
      "   macro avg       0.82      0.61      0.65       592\n",
      "weighted avg       0.88      0.90      0.87       592\n",
      "\n"
     ]
    }
   ],
   "source": [
    "clf.fit(train_x, train_y)\n",
    "y_pred_clf = clf.predict(test_x)\n",
    "model.append(\"XGBoost\")\n",
    "print(\"XGB-\")\n",
    "print(classification_report(test_y, y_pred_clf))"
   ]
  },
  {
   "cell_type": "code",
   "execution_count": 103,
   "metadata": {},
   "outputs": [],
   "source": [
    "def confusio_matrix(y_test, y_predicted):\n",
    "    cm = confusion_matrix(y_test, y_predicted)\n",
    "    \n",
    "    return cm"
   ]
  },
  {
   "cell_type": "code",
   "execution_count": 104,
   "metadata": {},
   "outputs": [],
   "source": [
    "from sklearn.metrics import classification_report, confusion_matrix\n",
    "import matplotlib.pyplot as plt"
   ]
  },
  {
   "cell_type": "code",
   "execution_count": 105,
   "metadata": {},
   "outputs": [
    {
     "name": "stdout",
     "output_type": "stream",
     "text": [
      "[[516   6]\n",
      " [ 54  16]]\n"
     ]
    }
   ],
   "source": [
    "print(confusio_matrix(test_y, y_pred_clf))"
   ]
  },
  {
   "cell_type": "code",
   "execution_count": 106,
   "metadata": {},
   "outputs": [
    {
     "name": "stdout",
     "output_type": "stream",
     "text": [
      "[[440  82]\n",
      " [  9  61]]\n"
     ]
    }
   ],
   "source": [
    "print(confusio_matrix(test_y, y_pred_RF)) ## Random Forest correctly classifies 1s. Lower false negatives"
   ]
  },
  {
   "cell_type": "code",
   "execution_count": 109,
   "metadata": {},
   "outputs": [
    {
     "name": "stdout",
     "output_type": "stream",
     "text": [
      "Naive Bayes model Precision:: 30.95%\n",
      "Random Forest Model Precision:: 42.66%\n",
      "SVM model Precision:: 100.00%\n",
      "SVMP model Precision:: 100.00%\n",
      "XGB model Precision:: 72.73%\n"
     ]
    }
   ],
   "source": [
    "from sklearn.metrics import precision_score\n",
    "acc = []\n",
    "acc_NB = precision_score(test_y, y_pred_NB, pos_label=1 )  \n",
    "print(\"Naive Bayes model Precision:: {:.2f}%\".format(acc_NB*100))\n",
    "acc.append(acc_NB*100)\n",
    "acc_RF = precision_score(test_y, y_pred_RF, pos_label=1) \n",
    "print(\"Random Forest Model Precision:: {:.2f}%\".format(acc_RF*100))\n",
    "acc.append(acc_RF*100)\n",
    "acc_SVM = precision_score(test_y, y_pred_SVM, pos_label=1) \n",
    "print(\"SVM model Precision:: {:.2f}%\".format(acc_SVM*100))\n",
    "acc.append(acc_SVM*100)\n",
    "acc_SVMP = precision_score(test_y, y_pred_SVMP, pos_label=1)  \n",
    "print(\"SVMP model Precision:: {:.2f}%\".format(acc_SVM*100))\n",
    "acc.append(acc_SVMP*100)\n",
    "acc_XGB = precision_score(test_y, y_pred_clf, pos_label=1)\n",
    "print(\"XGB model Precision:: {:.2f}%\".format(acc_XGB*100))\n",
    "acc.append(acc_XGB*100)"
   ]
  },
  {
   "cell_type": "code",
   "execution_count": 111,
   "metadata": {},
   "outputs": [
    {
     "name": "stdout",
     "output_type": "stream",
     "text": [
      "Naive Bayes model Recall:: 37.14%\n",
      "Random Forest Model Recall:: 87.14%\n",
      "SVM model Recall:: 7.14%\n",
      "SVMP model Recall:: 7.14%\n",
      "XGB model Recall:: 22.86%\n"
     ]
    }
   ],
   "source": [
    "from sklearn.metrics import recall_score\n",
    "rec = []\n",
    "acc_NB = recall_score(test_y, y_pred_NB, pos_label=1 )  \n",
    "print(\"Naive Bayes model Recall:: {:.2f}%\".format(acc_NB*100))\n",
    "rec.append(acc_NB*100)\n",
    "acc_RF = recall_score(test_y, y_pred_RF, pos_label=1) \n",
    "print(\"Random Forest Model Recall:: {:.2f}%\".format(acc_RF*100))\n",
    "rec.append(acc_RF*100)\n",
    "acc_SVM = recall_score(test_y, y_pred_SVM, pos_label=1) \n",
    "print(\"SVM model Recall:: {:.2f}%\".format(acc_SVM*100))\n",
    "rec.append(acc_SVM*100)\n",
    "acc_SVMP = recall_score(test_y, y_pred_SVMP, pos_label=1)  \n",
    "print(\"SVMP model Recall:: {:.2f}%\".format(acc_SVM*100))\n",
    "rec.append(acc_SVMP*100)\n",
    "acc_XGB = recall_score(test_y, y_pred_clf, pos_label=1)\n",
    "print(\"XGB model Recall:: {:.2f}%\".format(acc_XGB*100))\n",
    "rec.append(acc_XGB*100)\n",
    "\n",
    "## RF has the best recall among all models"
   ]
  }
 ],
 "metadata": {
  "kernelspec": {
   "display_name": "Python 3 (ipykernel)",
   "language": "python",
   "name": "python3"
  },
  "language_info": {
   "codemirror_mode": {
    "name": "ipython",
    "version": 3
   },
   "file_extension": ".py",
   "mimetype": "text/x-python",
   "name": "python",
   "nbconvert_exporter": "python",
   "pygments_lexer": "ipython3",
   "version": "3.9.7"
  }
 },
 "nbformat": 4,
 "nbformat_minor": 4
}
